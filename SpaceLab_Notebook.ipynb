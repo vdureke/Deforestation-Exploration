{
  "nbformat": 4,
  "nbformat_minor": 0,
  "metadata": {
    "colab": {
      "provenance": [],
      "gpuType": "T4",
      "authorship_tag": "ABX9TyNkXo/lBlWoL7GerdULzQeQ",
      "include_colab_link": true
    },
    "kernelspec": {
      "name": "python3",
      "display_name": "Python 3"
    },
    "language_info": {
      "name": "python"
    },
    "accelerator": "GPU"
  },
  "cells": [
    {
      "cell_type": "markdown",
      "metadata": {
        "id": "view-in-github",
        "colab_type": "text"
      },
      "source": [
        "<a href=\"https://colab.research.google.com/github/veradureke/Deforestation-Exploration/blob/main/SpaceLab_Notebook.ipynb\" target=\"_parent\"><img src=\"https://colab.research.google.com/assets/colab-badge.svg\" alt=\"Open In Colab\"/></a>"
      ]
    },
    {
      "cell_type": "code",
      "source": [
        "from google.colab import drive\n",
        "drive.mount('/content/drive')"
      ],
      "metadata": {
        "colab": {
          "base_uri": "https://localhost:8080/"
        },
        "id": "91DnUCh0e-e_",
        "outputId": "1a01d035-28dc-4bcb-a1a5-d1ea02427e55"
      },
      "execution_count": null,
      "outputs": [
        {
          "output_type": "stream",
          "name": "stdout",
          "text": [
            "Drive already mounted at /content/drive; to attempt to forcibly remount, call drive.mount(\"/content/drive\", force_remount=True).\n"
          ]
        }
      ]
    },
    {
      "cell_type": "code",
      "source": [
        "! apt-get install git\n"
      ],
      "metadata": {
        "colab": {
          "base_uri": "https://localhost:8080/"
        },
        "id": "jU8ypSfHfHaR",
        "outputId": "bab4093f-02d1-4a8b-edec-2b62a1ef81e7"
      },
      "execution_count": null,
      "outputs": [
        {
          "output_type": "stream",
          "name": "stdout",
          "text": [
            "Reading package lists... Done\n",
            "Building dependency tree... Done\n",
            "Reading state information... Done\n",
            "git is already the newest version (1:2.34.1-1ubuntu1.10).\n",
            "0 upgraded, 0 newly installed, 0 to remove and 16 not upgraded.\n"
          ]
        }
      ]
    },
    {
      "cell_type": "code",
      "source": [
        "!git clone https://github.com/spacelabdev/new_world_disco.git"
      ],
      "metadata": {
        "colab": {
          "base_uri": "https://localhost:8080/"
        },
        "id": "No3FtdPgfevV",
        "outputId": "11b3cb8b-8cec-43d4-f599-0b391d256d65"
      },
      "execution_count": 1,
      "outputs": [
        {
          "output_type": "stream",
          "name": "stdout",
          "text": [
            "Cloning into 'new_world_disco'...\n",
            "remote: Enumerating objects: 527, done.\u001b[K\n",
            "remote: Counting objects: 100% (124/124), done.\u001b[K\n",
            "remote: Compressing objects: 100% (93/93), done.\u001b[K\n",
            "remote: Total 527 (delta 69), reused 62 (delta 31), pack-reused 403\u001b[K\n",
            "Receiving objects: 100% (527/527), 36.81 MiB | 32.19 MiB/s, done.\n",
            "Resolving deltas: 100% (311/311), done.\n"
          ]
        }
      ]
    },
    {
      "cell_type": "code",
      "source": [
        "!tar -xvf \"/content/exonet_inputs/test_centroids.tar.gz\" -C \"/content/exonet_inputs\""
      ],
      "metadata": {
        "id": "Wr6nLoNvoGWI"
      },
      "execution_count": null,
      "outputs": []
    },
    {
      "cell_type": "code",
      "source": [
        "!tar -xvf \"/content/exonet_inputs/test_info.tar.gz\" -C \"/content/exonet_inputs\""
      ],
      "metadata": {
        "id": "GStjY8KgoQbq"
      },
      "execution_count": null,
      "outputs": []
    },
    {
      "cell_type": "code",
      "source": [
        "!tar -xvf \"/content/exonet_inputs/test_lightcurves.tar.gz\" -C \"/content/exonet_inputs\""
      ],
      "metadata": {
        "id": "En_3bSz7orr9"
      },
      "execution_count": null,
      "outputs": []
    },
    {
      "cell_type": "code",
      "source": [
        "!tar -xvf \"/content/exonet_inputs/train_centroids.tar.gz\" -C \"/content/exonet_inputs\""
      ],
      "metadata": {
        "id": "iceI5w3BozJF"
      },
      "execution_count": null,
      "outputs": []
    },
    {
      "cell_type": "code",
      "source": [
        "!tar -xvf \"/content/exonet_inputs/train_lightcurves.tar.gz\" -C \"/content/exonet_inputs\""
      ],
      "metadata": {
        "id": "YHhL8exfpimx"
      },
      "execution_count": null,
      "outputs": []
    },
    {
      "cell_type": "code",
      "source": [
        "!unzip /content/exonet_inputs/train_info.zip"
      ],
      "metadata": {
        "id": "wM0KIT9_pxta"
      },
      "execution_count": null,
      "outputs": []
    },
    {
      "cell_type": "code",
      "source": [
        "!tar -xvf \"/content/exonet_inputs/val_centroids.tar.gz\" -C \"/content/exonet_inputs\""
      ],
      "metadata": {
        "id": "XN8zIdILqOPO"
      },
      "execution_count": null,
      "outputs": []
    },
    {
      "cell_type": "code",
      "source": [
        "!tar -xvf \"/content/exonet_inputs/val_lightcurves.tar.gz\" -C \"/content/exonet_inputs\""
      ],
      "metadata": {
        "id": "OH7aTjNcqxqG"
      },
      "execution_count": null,
      "outputs": []
    },
    {
      "cell_type": "code",
      "source": [
        "import os\n",
        "import numpy as np\n",
        "import glob as glob\n",
        "from tqdm import tqdm\n",
        "from random import random\n",
        "import argparse\n",
        "import pandas as pd\n",
        "import pdb"
      ],
      "metadata": {
        "id": "lySouv4Hu57x"
      },
      "execution_count": null,
      "outputs": []
    },
    {
      "cell_type": "code",
      "source": [
        "import torch\n",
        "from torch.utils.data import Dataset\n",
        "from torch.utils.data import DataLoader\n",
        "from torch.autograd import Variable\n",
        "import torch.nn as nn"
      ],
      "metadata": {
        "id": "XgZjZkU-u81V"
      },
      "execution_count": null,
      "outputs": []
    },
    {
      "cell_type": "code",
      "source": [
        "from sklearn.metrics import precision_recall_curve\n",
        "from sklearn.metrics import average_precision_score\n",
        "from sklearn.metrics import confusion_matrix\n",
        "from sklearn.metrics import precision_score\n",
        "from sklearn.metrics import recall_score\n"
      ],
      "metadata": {
        "id": "eP8Sa3YVvEkw"
      },
      "execution_count": null,
      "outputs": []
    },
    {
      "cell_type": "code",
      "source": [
        "import matplotlib as mpl\n",
        "import matplotlib.pyplot as plt\n",
        "import matplotlib.gridspec as gridspec\n"
      ],
      "metadata": {
        "id": "hiQSjkbwvUHA"
      },
      "execution_count": null,
      "outputs": []
    },
    {
      "cell_type": "code",
      "source": [
        "    def __init__(self, filepath):\n",
        "\n",
        "        ### list of global, local, and info files (assumes certain names of files)\n",
        "        self.flist_global = np.sort(glob.glob(os.path.join(filepath, '*global.npy')))\n",
        "        self.flist_local = np.sort(glob.glob(os.path.join(filepath, '*local.npy')))\n",
        "        self.flist_info = np.sort(glob.glob(os.path.join(filepath, '*info.npy')))\n",
        "\n",
        "        ### list of whitened centroid files\n",
        "        self.flist_global_cen = np.sort(glob.glob(os.path.join(filepath, '*global_cen_w.npy')))\n",
        "        self.flist_local_cen = np.sort(glob.glob(os.path.join(filepath, '*local_cen_w.npy')))\n",
        "\n",
        "        ### ids = {TIC}_{TCE}\n",
        "        self.ids = np.sort([(x.split('/')[-1]).split('_')[1] + '_' + (x.split('/')[-1]).split('_')[2] for x in self.flist_global])\n",
        "\n",
        "    def __len__(self):\n",
        "\n",
        "        return self.ids.shape[0]\n",
        "\n",
        "    def __getitem__(self, idx):\n",
        "\n",
        "        ### grab local and global views\n",
        "        data_global = np.load(self.flist_global[idx])\n",
        "        data_local = np.load(self.flist_local[idx])\n",
        "\n",
        "        ### grab centroid views\n",
        "        data_global_cen = np.load(self.flist_global_cen[idx])\n",
        "        data_local_cen = np.load(self.flist_local_cen[idx])\n",
        "\n",
        "        ### info file contains: [0]kic, [1]tce, [2]period, [3]epoch, [4]duration, [5]label)\n",
        "        data_info = np.load(self.flist_info[idx])\n",
        "\n",
        "        return (data_local, data_global, data_local_cen, data_global_cen, data_info[6:]), data_info[5]"
      ],
      "metadata": {
        "id": "dTF5vbEZEXHr"
      },
      "execution_count": null,
      "outputs": []
    }
  ]
}